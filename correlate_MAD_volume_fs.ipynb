{
 "cells": [
  {
   "cell_type": "code",
   "execution_count": 1,
   "metadata": {},
   "outputs": [],
   "source": [
    "import pandas as pd\n",
    "import os\n",
    "import numpy as np\n",
    "import warnings\n",
    "from sklearn.preprocessing import MinMaxScaler, StandardScaler\n",
    "\n",
    "warnings.simplefilter(action='ignore', category=FutureWarning)\n",
    "pd.set_option('mode.chained_assignment', None)\n",
    "from statsmodels.stats.multitest import multipletests"
   ]
  },
  {
   "cell_type": "code",
   "execution_count": 2,
   "metadata": {},
   "outputs": [],
   "source": [
    "seg_folder = 'outputs/metrics_ondri_fs/'\n",
    "metric_df = []\n",
    "seg_files = os.listdir(seg_folder)\n",
    "for file in seg_files:\n",
    "    metric_df.append(pd.read_csv(seg_folder + file))\n",
    "\n",
    "metric_df = pd.concat(metric_df)\n",
    "metric_df['SUBJECT'] = [x.split('.')[:-1][0] for x in seg_files]\n",
    "# if 'TBV-voxel' in metric_df.columns:\n",
    "#     metric_df = metric_df.drop(columns=['TBV-voxel'])\n",
    "\n",
    "metric_df = metric_df.dropna(axis=1, how='all')\n"
   ]
  },
  {
   "cell_type": "code",
   "execution_count": 3,
   "metadata": {},
   "outputs": [],
   "source": [
    "nvox_cols = metric_df.columns[metric_df.columns.str.contains('nvox')]\n",
    "metric_df = metric_df.drop(columns=nvox_cols)\n",
    "#metric_df[nvox_cols] = np.asarray(metric_df[nvox_cols])/np.expand_dims(metric_df['TBV-voxel'], axis=-1)"
   ]
  },
  {
   "cell_type": "code",
   "execution_count": 4,
   "metadata": {},
   "outputs": [],
   "source": [
    "delete_cols = metric_df.columns[metric_df.columns.str.contains('MII')  | metric_df.columns.str.contains('mean')]\n",
    "\n",
    "metric_df = metric_df.drop(delete_cols, axis=1)"
   ]
  },
  {
   "cell_type": "code",
   "execution_count": 5,
   "metadata": {},
   "outputs": [],
   "source": [
    "clinical_df = pd.read_csv('data/summary/ONDRI_summary.csv')\n",
    "clinical_df = clinical_df[~pd.isna(clinical_df['NII_FILENAME_T1'])]"
   ]
  },
  {
   "cell_type": "code",
   "execution_count": 6,
   "metadata": {},
   "outputs": [
    {
     "name": "stdout",
     "output_type": "stream",
     "text": [
      "ADMCI\n",
      "105\n",
      "                              region     r         p\n",
      "2             Left-Inf-Lat-Vent_nvox  0.50  5.43e-06\n",
      "20           Right-Inf-Lat-Vent_nvox  0.36  1.28e-02\n",
      "31         Right-choroid-plexus_nvox  0.33  3.75e-02\n",
      "91      ctx-rh-superiortemporal_nvox -0.33  4.25e-02\n",
      "92         ctx-rh-supramarginal_nvox -0.34  2.93e-02\n",
      "34   ctx-lh-caudalmiddlefrontal_nvox -0.36  1.50e-02\n",
      "94                ctx-rh-insula_nvox -0.36  1.58e-02\n",
      "13                Left-Amygdala_nvox -0.37  8.87e-03\n",
      "36            ctx-lh-entorhinal_nvox -0.38  4.69e-03\n",
      "93    ctx-rh-transversetemporal_nvox -0.38  5.24e-03\n",
      "52           ctx-lh-postcentral_nvox -0.43  3.72e-04\n",
      "42  ctx-lh-lateralorbitofrontal_nvox -0.44  2.84e-04\n",
      "29         Right-Accumbens-area_nvox -0.45  1.01e-04\n",
      "1        Left-Lateral-Ventricle_nvox -0.46  6.16e-05\n",
      "27            Right-Hippocampus_nvox -0.47  4.72e-05\n",
      "12             Left-Hippocampus_nvox -0.48  1.92e-05\n",
      "19      Right-Lateral-Ventricle_nvox -0.49  9.86e-06\n",
      "28               Right-Amygdala_nvox -0.50  6.70e-06\n",
      "15          Left-Accumbens-area_nvox -0.50  5.68e-06\n",
      "67            ctx-rh-entorhinal_nvox -0.54  2.73e-07\n",
      "PD\n",
      "58\n",
      "                          region     r         p\n",
      "19  Right-Lateral-Ventricle_nvox -0.51  3.58e-03\n",
      "1    Left-Lateral-Ventricle_nvox -0.54  1.09e-03\n",
      "FTD\n",
      "42\n",
      "                       region     r         p\n",
      "80  ctx-rh-parsorbitalis_nvox -0.51  4.79e-02\n",
      "13         Left-Amygdala_nvox -0.58  5.26e-03\n",
      "36     ctx-lh-entorhinal_nvox -0.65  2.98e-04\n",
      "67     ctx-rh-entorhinal_nvox -0.69  4.57e-05\n",
      "28        Right-Amygdala_nvox -0.70  2.63e-05\n",
      "ALS\n",
      "40\n",
      "Empty DataFrame\n",
      "Columns: [region, r, p]\n",
      "Index: []\n"
     ]
    }
   ],
   "source": [
    "\n",
    "\n",
    "for cohort in ['ADMCI', 'PD', 'FTD', 'ALS']:\n",
    "    print(cohort)\n",
    "    fs_t1_vols = pd.read_csv('outputs/fs_t1_volumes.csv')\n",
    "\n",
    "    nvox_cols = fs_t1_vols.columns[~fs_t1_vols.columns.str.contains('SUBJECT')]\n",
    "    fs_t1_vols[nvox_cols] = fs_t1_vols[nvox_cols].to_numpy()/np.expand_dims(fs_t1_vols['total_intracranial_volume'].to_numpy(), axis=-1)\n",
    "    fs_t1_vols = fs_t1_vols.rename(columns={x: x + '_nvox' for x in nvox_cols})\n",
    "    merged = pd.merge(clinical_df[['SUBJECT', 'COHORT']], metric_df, on='SUBJECT')\n",
    "\n",
    "    merged = pd.merge(merged, fs_t1_vols, on='SUBJECT', how='inner')\n",
    "    merged = merged.drop(columns=['total_intracranial_volume_nvox'])\n",
    "    merged = merged[merged['COHORT'] == cohort]\n",
    "    print(len(merged))\n",
    "\n",
    "    scaler = StandardScaler()\n",
    "    x = scaler.fit_transform(merged[merged.columns[merged.columns.str.contains('nvox')]])\n",
    "\n",
    "\n",
    "    scaler = StandardScaler()\n",
    "    y = scaler.fit_transform(merged[merged.columns[merged.columns.str.contains('MAD')]])\n",
    "\n",
    "    from scipy.stats import pearsonr\n",
    "    cols = merged[merged.columns[merged.columns.str.contains('nvox')]].columns\n",
    "\n",
    "    rs = []\n",
    "    for i, col in enumerate(cols):\n",
    "        rs.append(pearsonr(x[:, i], y[:, i]))\n",
    "\n",
    "    df = pd.DataFrame()\n",
    "    df['region'] = cols\n",
    "    df['r'] = [r.statistic for r in rs]\n",
    "    test = multipletests([x.pvalue for x in rs])\n",
    "    df['p'] = test[1]\n",
    "\n",
    "    pd.set_option('display.precision', 2)\n",
    "    significant = df[df['p'] < 0.05]\n",
    "    significant['r'] = np.round(significant['r'], 2)\n",
    "\n",
    "\n",
    "    significant['p'] = [float('%.3g' % x) for x in significant['p']]\n",
    "    significant.sort_values('r', ascending=False, inplace=True)\n",
    "    print(significant)\n",
    "    significant.to_csv('outputs/MAD_size_correlation_%s.csv' % cohort, index=False)"
   ]
  },
  {
   "cell_type": "code",
   "execution_count": null,
   "metadata": {},
   "outputs": [],
   "source": []
  }
 ],
 "metadata": {
  "kernelspec": {
   "display_name": "iamlab_env",
   "language": "python",
   "name": "python3"
  },
  "language_info": {
   "codemirror_mode": {
    "name": "ipython",
    "version": 3
   },
   "file_extension": ".py",
   "mimetype": "text/x-python",
   "name": "python",
   "nbconvert_exporter": "python",
   "pygments_lexer": "ipython3",
   "version": "3.11.3"
  },
  "orig_nbformat": 4
 },
 "nbformat": 4,
 "nbformat_minor": 2
}
