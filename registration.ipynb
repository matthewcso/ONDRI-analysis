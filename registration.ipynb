{
 "cells": [
  {
   "cell_type": "code",
   "execution_count": 1,
   "metadata": {},
   "outputs": [],
   "source": [
    "# %%\n",
    "\n",
    "import ants\n",
    "import numpy as np\n",
    "from utils.load_scalar import image_read_rotation, load_scalar\n",
    "import pandas as pd\n",
    "import os\n",
    "\n",
    "# %%\n",
    "if not os.path.exists('outputs/registration_labels'):\n",
    "    os.makedirs('outputs/registration_labels')\n",
    "\n",
    "if not os.path.exists('outputs/registration_images'):\n",
    "    os.makedirs('outputs/registration_images')\n",
    "\n",
    "if not os.path.exists('outputs/rotation_images'):\n",
    "    os.makedirs('outputs/rotation_images')\n",
    "\n",
    "if not os.path.exists('outputs/csf_segmentation'):\n",
    "    os.makedirs('outputs/csf_segmentation')\n",
    "    \n",
    "\n",
    "# %%\n",
    "clinical_df = pd.read_csv('data/summary/ONDRI_summary.csv')\n",
    "clinical_df = clinical_df[clinical_df['COHORT']!= 'VCI']\n",
    "atlas = ants.image_read('atlas/mni_icbm152_nlin_sym_09c_t2_csfnull.nii.gz')\n",
    "atlas_labels = ants.image_read('atlas/mni_icbm152_nlin_sym_09c_CerebrA_nifti/mni_icbm152_CerebrA_tal_nlin_sym_09c.nii') \n",
    "atlas_brainmask = ants.image_read('atlas/mni_icbm152_nlin_sym_09c/mni_icbm152_t1_tal_nlin_sym_09c_mask.nii').numpy()\n",
    "\n",
    "\n",
    "\n"
   ]
  },
  {
   "cell_type": "code",
   "execution_count": 2,
   "metadata": {},
   "outputs": [],
   "source": [
    "atlas_brain = atlas.copy()\n",
    "atlas_brain[atlas_brainmask == 0] = 0"
   ]
  },
  {
   "cell_type": "code",
   "execution_count": 3,
   "metadata": {},
   "outputs": [],
   "source": [
    "csf_atlas = ants.image_read('atlas/mni_icbm152_nlin_sym_09c/mni_icbm152_csf_tal_nlin_sym_09c.nii')\n",
    "wm_atlas = ants.image_read('atlas/mni_icbm152_nlin_sym_09c/mni_icbm152_wm_tal_nlin_sym_09c.nii')\n",
    "gm_atlas = ants.image_read('atlas/mni_icbm152_nlin_sym_09c/mni_icbm152_gm_tal_nlin_sym_09c.nii')"
   ]
  },
  {
   "cell_type": "code",
   "execution_count": 6,
   "metadata": {},
   "outputs": [
    {
     "name": "stdout",
     "output_type": "stream",
     "text": [
      "Processing 1/375: sub-OND01BYC1008_ses-01SE01MR_run-1_FLAIR_time0.nii.gz\n"
     ]
    }
   ],
   "source": [
    "mask_loc = []\n",
    "# %%\n",
    "for i, row in clinical_df.iterrows():\n",
    "    print('Processing %s/%s: %s' % (str(i), str(len(clinical_df)), row['STANDARDIZED_NII']))\n",
    "    output_picture = 'outputs/registration_images/%s'% row['STANDARDIZED_NII'].replace('.nii.gz', '.png')\n",
    "    if os.path.exists(output_picture):\n",
    "        print('Already completed %s' % output_picture)\n",
    "        continue\n",
    "    \n",
    "    img_path = 'data/FLAIR_standardized/%s' % row['STANDARDIZED_NII']\n",
    "    \n",
    "    img0 = image_read_rotation(img_path, k=1)\n",
    "\n",
    "    if os.path.exists('data/mask/%s' % row['MASK_NII']):\n",
    "        img_mask = image_read_rotation('data/mask/%s' % row['MASK_NII'], k=1)\n",
    "        mask_loc.append('data/mask/%s' % row['MASK_NII'])\n",
    "    else: \n",
    "        img_mask = image_read_rotation('data/hdbet_mask/%s' % row['STANDARDIZED_NII'].replace('.nii.gz', '_mask.nii.gz'), k=1)\n",
    "        mask_loc.append('data/mask/%s' % row['STANDARDIZED_NII'].replace('.nii.gz', '_mask.nii.gz'))\n",
    "\n",
    "\n",
    "    if not img_mask.shape == img0.shape:\n",
    "        img_mask = ants.pad_image(ants.from_numpy(img_mask), shape=img0.shape).numpy()\n",
    "    img_brain = img0.copy()\n",
    "    img_brain[img_mask == 0] = 0\n",
    "\n",
    "    try:\n",
    "        registration = ants.registration(fixed=atlas_brain, moving=img_brain, type_of_transform='SyNAggro')\n",
    "        registered_labels = ants.apply_transforms(fixed=img0, moving=atlas_labels, transformlist=registration['invtransforms'], interpolator='genericLabel')\n",
    "\n",
    "        registered_labels[img_mask == 0] = 0\n",
    "        registered_labels.to_file('outputs/registration_labels/%s'% row['STANDARDIZED_NII'])\n",
    "        img0.to_file('outputs/rotation_images/%s'% row['STANDARDIZED_NII'])\n",
    "\n",
    "        img0.plot(overlay=registered_labels, overlay_cmap='tab20', nslices=6, overlay_alpha=0.5, axis=2, figsize=3, filename='outputs/registration_images/%s'% row['STANDARDIZED_NII'].replace('.nii.gz', '.png'))\n",
    "\n",
    "        csf_segmentation =  ants.apply_transforms(fixed=img0, moving=csf_atlas, transformlist=registration['invtransforms'])\n",
    "        parenchyma_segmentation =  ants.apply_transforms(fixed=img0, moving=wm_atlas+gm_atlas, transformlist=registration['invtransforms'])\n",
    "        seg = ants.prior_based_segmentation(img0,[csf_segmentation, parenchyma_segmentation], img_mask!= 0, priorweight=0.25, mrf=0.1, iterations=25)\n",
    "        seg['segmentation'].to_filename('outputs/csf_segmentation/%s'% row['STANDARDIZED_NII'])\n",
    "    except RuntimeError:\n",
    "        print('Error in registration for %s' % row['STANDARDIZED_NII'])\n",
    "        continue\n",
    "\n"
   ]
  }
 ],
 "metadata": {
  "kernelspec": {
   "display_name": "iamlab_env",
   "language": "python",
   "name": "python3"
  },
  "language_info": {
   "codemirror_mode": {
    "name": "ipython",
    "version": 3
   },
   "file_extension": ".py",
   "mimetype": "text/x-python",
   "name": "python",
   "nbconvert_exporter": "python",
   "pygments_lexer": "ipython3",
   "version": "3.11.3"
  }
 },
 "nbformat": 4,
 "nbformat_minor": 2
}
