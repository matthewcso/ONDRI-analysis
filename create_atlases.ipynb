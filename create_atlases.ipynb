{
 "cells": [
  {
   "cell_type": "code",
   "execution_count": 35,
   "metadata": {},
   "outputs": [],
   "source": [
    "import ants\n"
   ]
  },
  {
   "cell_type": "code",
   "execution_count": null,
   "metadata": {},
   "outputs": [],
   "source": [
    "# create T2 with nulled CSF (fake FLAIR)\n",
    "t2_cerebra = ants.image_read('atlas/mni_icbm152_nlin_sym_09c/mni_icbm152_t2_tal_nlin_sym_09c.nii')\n",
    "t1_cerebra = ants.image_read('atlas/mni_icbm152_nlin_sym_09c/mni_icbm152_t1_tal_nlin_sym_09c.nii')\n",
    "cerebra_brainmask = ants.image_read('atlas/mni_icbm152_nlin_sym_09c/mni_icbm152_t1_tal_nlin_sym_09c_mask.nii')\n",
    "\n",
    "t2_cerebra[cerebra_brainmask < 1] = 0\n",
    "t1_cerebra[cerebra_brainmask < 1] = 0\n",
    "\n",
    "t2_jhu_brain = ants.image_read('atlas/JHU_T2_brain.nii.gz')\n",
    "\n",
    "mytx = ants.registration(fixed=t2_jhu_brain, moving=t2_cerebra, type_of_transform='SyN')\n",
    "t1_cerebra_in_jhu = ants.apply_transform(fixed=t2_jhu_brain, moving=t1_cerebra, transformlist=mytx['fwdtransforms'])\n",
    "t1_cerebra_in_jhu.to_filename('atlas/t1_mni_to_jhu.nii.gz')\n",
    "\n",
    "t2_cerebra_csf = ants.image_read('atlas/mni_icbm152_nlin_sym_09c/mni_icbm152_csf_tal_nlin_sym_09c.nii')\n",
    "t2_cerebra *= (1- t2_cerebra_csf)\n",
    "t2_cerebra.to_filename('atlas/mni_icbm152_nlin_sym_09c_t2_csfnull.nii.gz')"
   ]
  },
  {
   "cell_type": "code",
   "execution_count": 36,
   "metadata": {},
   "outputs": [],
   "source": [
    "# register MNI152nonlinear to MNI152 linear space (there are slight differences)\n",
    "# then use this registration to register the Harvard-Oxford atlas (which is in linear space) to nonlinear space  \n",
    "# (the fake FLAIR is in nonlinear space)\n",
    "\n",
    "linear_atlas = ants.image_read('atlas/mni_icbm152_lin_nifti/icbm_avg_152_t1_tal_lin.nii')\n",
    "linear_atlas_mask = ants.image_read('atlas/mni_icbm152_lin_nifti/icbm_avg_152_t1_tal_lin_mask.nii')\n",
    "linear_atlas[linear_atlas_mask == 0] = 0\n",
    "\n",
    "nlin_atlas = ants.image_read('atlas/mni_icbm152_nlin_sym_09c/mni_icbm152_t1_tal_nlin_sym_09c.nii')\n",
    "nlin_atlas_mask = ants.image_read('atlas/mni_icbm152_nlin_sym_09c/mni_icbm152_t1_tal_nlin_sym_09c_mask.nii')\n",
    "nlin_atlas[nlin_atlas_mask == 0] = 0\n",
    "\n",
    "harvard_oxford = ants.image_read('atlas/Harvard-Oxford cortical and subcortical structural atlases/HarvardOxford-cort_and_sub-maxprob-thr25-1mm.nii.gz_1.nii.gz')\n",
    "\n",
    "registration = ants.registration(fixed=linear_atlas, moving=nlin_atlas, type_of_transform='SyNAggro')\n",
    "harvard_oxford_to_nlin = ants.apply_transforms(fixed=nlin_atlas, moving=harvard_oxford, transformlist=registration['invtransforms'], interpolator='genericLabel')\n",
    "harvard_oxford_to_nlin[nlin_atlas_mask == 0] = 0\n",
    "harvard_oxford_to_nlin.to_file('atlas/harvard_oxford_to_nlin.nii.gz')"
   ]
  }
 ],
 "metadata": {
  "kernelspec": {
   "display_name": "iamlab_env",
   "language": "python",
   "name": "python3"
  },
  "language_info": {
   "codemirror_mode": {
    "name": "ipython",
    "version": 3
   },
   "file_extension": ".py",
   "mimetype": "text/x-python",
   "name": "python",
   "nbconvert_exporter": "python",
   "pygments_lexer": "ipython3",
   "version": "3.11.3"
  }
 },
 "nbformat": 4,
 "nbformat_minor": 2
}
