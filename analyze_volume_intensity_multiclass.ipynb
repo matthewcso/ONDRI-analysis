{
 "cells": [
  {
   "cell_type": "code",
   "execution_count": 127,
   "metadata": {},
   "outputs": [],
   "source": [
    "import pandas as pd\n",
    "import os\n",
    "import numpy as np\n",
    "import warnings\n",
    "\n",
    "warnings.simplefilter(action='ignore', category=FutureWarning)\n",
    "\n"
   ]
  },
  {
   "cell_type": "code",
   "execution_count": 128,
   "metadata": {},
   "outputs": [],
   "source": [
    "seg_folder = 'outputs/metrics_ondri_cerebra/'\n",
    "metric_df = []\n",
    "seg_files = os.listdir(seg_folder)\n",
    "for file in seg_files:\n",
    "    metric_df.append(pd.read_csv(seg_folder + file))\n",
    "\n",
    "metric_df = pd.concat(metric_df)\n",
    "metric_df['SUBJECT'] = [x.split('.')[:-1][0] for x in seg_files]\n",
    "\n",
    "metric_df = metric_df.dropna(axis=1, how='all')\n"
   ]
  },
  {
   "cell_type": "code",
   "execution_count": 129,
   "metadata": {},
   "outputs": [],
   "source": [
    "delete_cols = metric_df.columns[metric_df.columns.str.contains('MII') | metric_df.columns.str.contains('mean')]\n",
    "metric_df = metric_df.drop(delete_cols, axis=1)"
   ]
  },
  {
   "cell_type": "code",
   "execution_count": 130,
   "metadata": {},
   "outputs": [],
   "source": [
    "nvox_cols = metric_df.columns[metric_df.columns.str.contains('nvox')]\n",
    "metric_df[nvox_cols] = np.asarray(metric_df[nvox_cols])/np.expand_dims(metric_df['TBV-voxel'], axis=-1)"
   ]
  },
  {
   "cell_type": "code",
   "execution_count": 131,
   "metadata": {},
   "outputs": [],
   "source": [
    "clinical_df = pd.read_csv('data/summary/ONDRI_summary.csv')"
   ]
  },
  {
   "cell_type": "code",
   "execution_count": 132,
   "metadata": {},
   "outputs": [],
   "source": [
    "merged = pd.merge(clinical_df[['SUBJECT', 'COHORT']], metric_df, on='SUBJECT')"
   ]
  },
  {
   "cell_type": "code",
   "execution_count": 133,
   "metadata": {},
   "outputs": [],
   "source": [
    "merged.columns = [x.replace('Left', 'Tempxxx') for x in merged.columns]\n",
    "merged.columns = [x.replace('Right', 'Left') for x in merged.columns]\n",
    "merged.columns = [x.replace('Tempxxx', 'Right') for x in merged.columns]"
   ]
  },
  {
   "cell_type": "code",
   "execution_count": 134,
   "metadata": {},
   "outputs": [],
   "source": [
    "if not os.path.exists('outputs/analysis'):\n",
    "    os.makedirs('outputs/analysis')"
   ]
  },
  {
   "cell_type": "code",
   "execution_count": 135,
   "metadata": {},
   "outputs": [
    {
     "data": {
      "text/plain": [
       "<matplotlib.legend.Legend at 0x7ff894844f90>"
      ]
     },
     "execution_count": 135,
     "metadata": {},
     "output_type": "execute_result"
    },
    {
     "data": {
      "image/png": "[encoded data removed]",
      "text/plain": [
       "<Figure size 640x480 with 1 Axes>"
      ]
     },
     "metadata": {},
     "output_type": "display_data"
    }
   ],
   "source": [
    "# import matplotlib.pyplot as plt\n",
    "# for x in range(5):\n",
    "#     plt.hist(features[labels==x]['MAD_Brain'], alpha=0.5, bins=20, label=str(x), density=True)\n",
    "# plt.legend()"
   ]
  },
  {
   "cell_type": "code",
   "execution_count": 136,
   "metadata": {},
   "outputs": [
    {
     "name": "stdout",
     "output_type": "stream",
     "text": [
      "              precision    recall  f1-score   support\n",
      "\n",
      "           0       0.16      0.50      0.24        18\n",
      "           1       0.36      0.22      0.27       125\n",
      "           2       0.25      0.39      0.31        51\n",
      "           3       0.49      0.27      0.35       138\n",
      "           4       0.21      0.45      0.29        40\n",
      "\n",
      "    accuracy                           0.30       372\n",
      "   macro avg       0.29      0.37      0.29       372\n",
      "weighted avg       0.37      0.30      0.30       372\n",
      "\n",
      "[[0.5  0.   0.06 0.17 0.28]\n",
      " [0.1  0.22 0.27 0.22 0.19]\n",
      " [0.16 0.24 0.39 0.08 0.14]\n",
      " [0.14 0.23 0.14 0.27 0.22]\n",
      " [0.2  0.12 0.12 0.1  0.45]]\n",
      "              precision    recall  f1-score   support\n",
      "\n",
      "           0       0.21      0.56      0.31        18\n",
      "           1       0.46      0.25      0.32       125\n",
      "           2       0.28      0.47      0.35        51\n",
      "           3       0.53      0.34      0.41       138\n",
      "           4       0.31      0.62      0.41        40\n",
      "\n",
      "    accuracy                           0.37       372\n",
      "   macro avg       0.36      0.45      0.36       372\n",
      "weighted avg       0.43      0.37      0.37       372\n",
      "\n",
      "[[0.56 0.11 0.11 0.11 0.11]\n",
      " [0.1  0.25 0.29 0.2  0.16]\n",
      " [0.02 0.18 0.47 0.2  0.14]\n",
      " [0.14 0.17 0.15 0.34 0.2 ]\n",
      " [0.1  0.05 0.1  0.12 0.62]]\n",
      "              precision    recall  f1-score   support\n",
      "\n",
      "           0       0.25      0.61      0.35        18\n",
      "           1       0.45      0.20      0.28       125\n",
      "           2       0.28      0.59      0.38        51\n",
      "           3       0.61      0.38      0.47       138\n",
      "           4       0.33      0.68      0.44        40\n",
      "\n",
      "    accuracy                           0.39       372\n",
      "   macro avg       0.39      0.49      0.38       372\n",
      "weighted avg       0.47      0.39      0.38       372\n",
      "\n",
      "[[0.61 0.   0.06 0.22 0.11]\n",
      " [0.08 0.2  0.36 0.17 0.19]\n",
      " [0.04 0.16 0.59 0.1  0.12]\n",
      " [0.12 0.15 0.18 0.38 0.17]\n",
      " [0.1  0.02 0.12 0.08 0.68]]\n"
     ]
    }
   ],
   "source": [
    "# train models\n",
    "from sklearn.model_selection import KFold\n",
    "from imblearn.ensemble import BalancedRandomForestClassifier\n",
    "\n",
    "from sklearn.linear_model import LogisticRegression\n",
    "from sklearn.metrics import  recall_score, roc_auc_score, classification_report\n",
    "from sklearn.metrics import confusion_matrix as confusion_matrix_fn\n",
    "from sklearn.pipeline import Pipeline\n",
    "from sklearn.preprocessing import StandardScaler\n",
    "\n",
    "from scipy.stats import ttest_ind, f_oneway as anova\n",
    "import shap\n",
    "\n",
    "\n",
    "\n",
    "\n",
    "\n",
    "for version in 'vol', 'texture', 'both':\n",
    "    classification_accuracy_df = []\n",
    "\n",
    "    labelmap = {'HC': 0, 'ADMCI': 1, 'FTD': 2, 'PD': 3, 'ALS': 4}\n",
    "\n",
    "    merged_select = merged[merged['COHORT'].isin(list(labelmap.keys()))]\n",
    "    features = merged_select[list(filter(lambda x: x not in [ 'SUBJECT', 'COHORT'], merged_select.columns))]\n",
    "    features = features.dropna(axis=1, how='any')\n",
    "    \n",
    "    if version == 'vol':\n",
    "        vol_cols = list(filter(lambda x: 'nvox' in x, features.columns))\n",
    "        features = features[vol_cols]\n",
    "    elif version == 'texture':\n",
    "        mii_cols = list(filter(lambda x: 'MAD' in x, features.columns)) \n",
    "        features = features[mii_cols]\n",
    "    #features = features.drop(columns=['TBV-voxel'])\n",
    "\n",
    "    labels = merged['COHORT']\n",
    "    labels = merged_select['COHORT'].map(labelmap)\n",
    "\n",
    "    kf = KFold(n_splits=10, shuffle=True, random_state=49)\n",
    "\n",
    "    val_predictions_lr = np.zeros((labels.shape[0], 5))\n",
    "    val_predictions_rf = np.zeros((labels.shape[0], 5))\n",
    "    models_lr = []\n",
    "    shap_lr = []\n",
    "    models_rf =[]\n",
    "    shap_rf = []\n",
    "\n",
    "    for train_idx, val_idx in kf.split(features):\n",
    "        train_features = features.iloc[train_idx]\n",
    "        train_labels = labels.iloc[train_idx]\n",
    "        val_features = features.iloc[val_idx]\n",
    "        val_labels = labels.iloc[val_idx]\n",
    "\n",
    "        # ---------------------------------------------------------------------------------------------------------------------------------------------\n",
    "        # Random Forest training\n",
    "        model = BalancedRandomForestClassifier(random_state=0)\n",
    "        model.fit(train_features, train_labels)\n",
    "\n",
    "        explainer = shap.TreeExplainer(model, data=val_features)\n",
    "        shap_values = explainer.shap_values(val_features, check_additivity=False)\n",
    "\n",
    "        shap_rf.append(shap_values)\n",
    "        models_rf.append(model)\n",
    "        val_predictions_rf[val_idx] = model.predict_proba(val_features)\n",
    "    \n",
    "    print(classification_report(labels, np.argmax(val_predictions_rf, axis=-1)))\n",
    "    \n",
    "    confusion_matrix = confusion_matrix_fn(labels, np.argmax(val_predictions_rf, axis=-1))\n",
    "    print(np.round(confusion_matrix/np.sum(confusion_matrix, axis=-1)[:, np.newaxis],2))\n",
    "\n",
    "    coef_df = pd.DataFrame()\n",
    "    coef_df['feature'] = features.columns\n",
    "    mean_imps = np.mean(np.array([model.feature_importances_ for model in models_rf]), axis=0)\n",
    "    mean_shaps = np.mean(np.abs(np.concatenate([shap_values[1] for shap_values in shap_rf])), axis=0)\n",
    "\n",
    "    coef_df['shap'] = mean_shaps\n",
    "    coef_df['imps'] = mean_imps\n",
    "    coef_df['p'] = [anova(*[features[x][labels==y] for y in [0,1,2,3,4]]).pvalue for x in coef_df['feature']]\n",
    "    coef_df = coef_df.sort_values(by='shap', ascending=False)\n",
    "    coef_df.to_csv('outputs/analysis/multiclass_%s.csv' % (version), index=False)\n",
    "\n",
    "\n",
    "        # coef_df = pd.DataFrame()\n",
    "        # coef_df['feature'] = features.columns\n",
    "        # mean_imps = np.mean(np.array([model.feature_importances_ for model in models_rf]), axis=0)\n",
    "        # mean_shaps = np.mean(np.abs(np.concatenate([shap_values[1] for shap_values in shap_rf])), axis=0)\n",
    "\n",
    "        # coef_df['shap'] = mean_shaps\n",
    "        # coef_df['imps'] = mean_imps\n",
    "        # coef_df['mean_percent'] = [(np.mean(features[x][labels==1])/np.mean(features[x][labels==0])) for x in coef_df['feature']]\n",
    "        # coef_df['p'] = [ttest_ind(features[x][labels==0], features[x][labels==1]).pvalue for x in coef_df['feature']]\n",
    "        # coef_df = coef_df.sort_values(by='shap', ascending=False)\n",
    "        # coef_df.to_csv('outputs/analysis/%s_vs_%s_%s.csv' % (comparison[0], comparison[1], version), index=False)\n",
    "\n",
    "\n",
    "        # confusion_matrix = confusion_matrix_fn(labels, np.argmax(val_predictions_rf, axis=-1))\n",
    "\n",
    "        # recall_0 = confusion_matrix[0, 0]/ (confusion_matrix[0, 0] + confusion_matrix[0, 1]) # (yes this agrees with sklearn confusion_matrix)\n",
    "        # recall_1 = confusion_matrix[1, 1]/ (confusion_matrix[1, 0] + confusion_matrix[1, 1])\n",
    "\n",
    "        # classification_accuracy_df.append(pd.Series({'comparison': '%s vs %s' % (comparison[0], comparison[1]), \n",
    "        #                                             'auc': roc_auc_score(labels, val_predictions_rf[:, 1]),\n",
    "        #                                             'Recall 0': recall_0,\n",
    "        #                                             'Recall 1': recall_1,\n",
    "        #                                             })) \n",
    "                                                    \n",
    "                                                                    \n",
    "    # classification_accuracy_df = pd.DataFrame(classification_accuracy_df)\n",
    "\n",
    "    # classification_accuracy_df['Recall 0'] = np.round(classification_accuracy_df['Recall 0'], 2)\n",
    "    # classification_accuracy_df['Recall 1'] = np.round(classification_accuracy_df['Recall 1'], 2)\n",
    "    # classification_accuracy_df['auc'] = np.round(classification_accuracy_df['auc'], 2)\n",
    "    # classification_accuracy_df.to_csv('outputs/analysis/classification_accuracy_%s.csv' % version, index=False)"
   ]
  },
  {
   "cell_type": "code",
   "execution_count": 149,
   "metadata": {},
   "outputs": [
    {
     "data": {
      "text/html": [
       "<table border=\"1\" class=\"dataframe\">\n",
       "  <thead>\n",
       "    <tr style=\"text-align: right;\">\n",
       "      <th>p</th>\n",
       "    </tr>\n",
       "  </thead>\n",
       "  <tbody>\n",
       "    <tr>\n",
       "      <td>5.053960e-15</td>\n",
       "    </tr>\n",
       "    <tr>\n",
       "      <td>4.075563e-15</td>\n",
       "    </tr>\n",
       "    <tr>\n",
       "      <td>1.689646e-09</td>\n",
       "    </tr>\n",
       "    <tr>\n",
       "      <td>9.444900e-13</td>\n",
       "    </tr>\n",
       "    <tr>\n",
       "      <td>4.847761e-07</td>\n",
       "    </tr>\n",
       "    <tr>\n",
       "      <td>5.884894e-11</td>\n",
       "    </tr>\n",
       "    <tr>\n",
       "      <td>3.919277e-09</td>\n",
       "    </tr>\n",
       "    <tr>\n",
       "      <td>1.701413e-07</td>\n",
       "    </tr>\n",
       "    <tr>\n",
       "      <td>1.975883e-13</td>\n",
       "    </tr>\n",
       "    <tr>\n",
       "      <td>8.733874e-06</td>\n",
       "    </tr>\n",
       "  </tbody>\n",
       "</table>"
      ],
      "text/plain": [
       "<IPython.core.display.HTML object>"
      ]
     },
     "metadata": {},
     "output_type": "display_data"
    }
   ],
   "source": [
    "\n",
    "\n"
   ]
  },
  {
   "cell_type": "code",
   "execution_count": null,
   "metadata": {},
   "outputs": [],
   "source": []
  }
 ],
 "metadata": {
  "kernelspec": {
   "display_name": "iamlab_env",
   "language": "python",
   "name": "python3"
  },
  "language_info": {
   "codemirror_mode": {
    "name": "ipython",
    "version": 3
   },
   "file_extension": ".py",
   "mimetype": "text/x-python",
   "name": "python",
   "nbconvert_exporter": "python",
   "pygments_lexer": "ipython3",
   "version": "3.11.3"
  },
  "orig_nbformat": 4
 },
 "nbformat": 4,
 "nbformat_minor": 2
}
