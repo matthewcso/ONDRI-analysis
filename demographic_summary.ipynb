{
 "cells": [
  {
   "cell_type": "code",
   "execution_count": 1,
   "metadata": {},
   "outputs": [],
   "source": [
    "import pandas as pd\n",
    "import os\n",
    "import numpy as np\n",
    "\n"
   ]
  },
  {
   "cell_type": "code",
   "execution_count": 2,
   "metadata": {},
   "outputs": [],
   "source": [
    "seg_folder = 'outputs/metrics_ondri_cerebra/'\n",
    "metric_df = []\n",
    "seg_files = os.listdir(seg_folder)\n",
    "for file in seg_files:\n",
    "    metric_df.append(pd.read_csv(seg_folder + file))\n",
    "\n",
    "metric_df = pd.concat(metric_df)\n",
    "metric_df['SUBJECT'] = [x.split('.')[:-1][0] for x in seg_files]\n",
    "\n",
    "\n",
    "metric_df = metric_df.dropna(axis=1, how='all')\n",
    "clinical_df = pd.read_csv('data/summary/ONDRI_summary.csv')\n",
    "clinical_df = clinical_df.rename(columns={'COHORT': 'DIAGNOSIS'})\n",
    "merged = pd.merge(clinical_df[['SUBJECT', 'DIAGNOSIS']], metric_df, on='SUBJECT')"
   ]
  },
  {
   "cell_type": "code",
   "execution_count": 4,
   "metadata": {},
   "outputs": [],
   "source": [
    "ondri_demographic = []\n",
    "for diagnosis in ['ADMCI','ALS', 'FTD', 'PD']:\n",
    "    path = 'data/summary/ONDRI/Clinical_Release/%s/%s_01_Clinical_Aggregated.csv' % (diagnosis, diagnosis)\n",
    "    tmp = pd.read_csv(path)\n",
    "    ondri_demographic.append(tmp)\n",
    "ondri_demographic= pd.concat(ondri_demographic)\n",
    "ondri_demographic = ondri_demographic[['SUBJECT', 'AGE', 'SEX', 'MOCA_TOTAL']]\n",
    "ondri_demographic = ondri_demographic.rename(columns={'AGE':'Age', 'SEX':'Gender', 'MOCA_TOTAL':'MOCA'})\n",
    "ondri_demographic['Gender'] = ondri_demographic['Gender'].map({'Male':0, 'Female':1})\n"
   ]
  },
  {
   "cell_type": "code",
   "execution_count": 5,
   "metadata": {},
   "outputs": [
    {
     "name": "stdout",
     "output_type": "stream",
     "text": [
      "372 subjects have missing MOCA\n",
      "18 are healthy controls\n"
     ]
    },
    {
     "name": "stderr",
     "output_type": "stream",
     "text": [
      "/tmp/ipykernel_22572/973364534.py:4: SettingWithCopyWarning: \n",
      "A value is trying to be set on a copy of a slice from a DataFrame\n",
      "\n",
      "See the caveats in the documentation: https://pandas.pydata.org/pandas-docs/stable/user_guide/indexing.html#returning-a-view-versus-a-copy\n",
      "  cohort['MOCA'][cohort['MOCA'] == 'M_PI'] = np.nan\n"
     ]
    }
   ],
   "source": [
    "cohort = pd.merge(merged[['SUBJECT', 'DIAGNOSIS']], ondri_demographic, on='SUBJECT', how='left')\n",
    "\n",
    "\n",
    "cohort['MOCA'][cohort['MOCA'] == 'M_PI'] = np.nan\n",
    "cohort['MOCA'] = cohort['MOCA'].astype(float)\n",
    "print('%s subjects have missing MOCA' % (cohort['MOCA'].isna().sum()))\n",
    "\n",
    "means =cohort.drop(columns=['SUBJECT']).groupby('DIAGNOSIS').mean()\n",
    "stds = cohort.drop(columns=['SUBJECT']).groupby('DIAGNOSIS').std()\n",
    "print('%s are healthy controls' % str(np.sum(cohort['DIAGNOSIS']== 'HC')))\n",
    "\n",
    "printout_age = ['%s (%s)' % (x, y) for x, y in zip(np.round(means['Age'], 1).astype(str), np.round(stds['Age'], 1).astype(str))]\n",
    "printout_moca = ['%s (%s)' % (x, y) for x, y in zip(np.round(means['MOCA'], 1).astype(str), np.round(stds['MOCA'], 1).astype(str))]\n",
    "printout_gender = ['%s' % x for x in np.round(means['Gender']*100, 1).astype(str)]\n",
    "printout_N = [x for x in cohort[['DIAGNOSIS', 'Age']].groupby('DIAGNOSIS').count()['Age'].astype(str)]\n",
    "\n",
    "printout = pd.DataFrame()\n",
    "printout['DIAGNOSIS'] = means.index\n",
    "printout['Age mean (SD)'] = printout_age\n",
    "printout['Gender % female'] = printout_gender\n",
    "printout['MOCA mean (SD)'] = printout_moca\n",
    "printout['N'] = printout_N\n",
    "printout['N'] = printout['N'].astype(int)\n",
    "\n",
    "printout = printout.sort_values(by='N', ascending=False)\n",
    "printout = printout[printout['DIAGNOSIS'] != 'Mixed']\n",
    "printout.to_csv('outputs/demographic_summary.csv', index=False)\n"
   ]
  }
 ],
 "metadata": {
  "kernelspec": {
   "display_name": "iamlab_env",
   "language": "python",
   "name": "python3"
  },
  "language_info": {
   "codemirror_mode": {
    "name": "ipython",
    "version": 3
   },
   "file_extension": ".py",
   "mimetype": "text/x-python",
   "name": "python",
   "nbconvert_exporter": "python",
   "pygments_lexer": "ipython3",
   "version": "3.11.3"
  },
  "orig_nbformat": 4
 },
 "nbformat": 4,
 "nbformat_minor": 2
}
